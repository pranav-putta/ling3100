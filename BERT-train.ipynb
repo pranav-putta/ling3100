{
 "cells": [
  {
   "cell_type": "code",
   "execution_count": 1,
   "id": "43a0ef60-90cd-4fa8-854f-7c6fd11eb41e",
   "metadata": {},
   "outputs": [
    {
     "name": "stderr",
     "output_type": "stream",
     "text": [
      "/Users/pranavputta/mambaforge/envs/multion/lib/python3.10/site-packages/tqdm/auto.py:21: TqdmWarning: IProgress not found. Please update jupyter and ipywidgets. See https://ipywidgets.readthedocs.io/en/stable/user_install.html\n",
      "  from .autonotebook import tqdm as notebook_tqdm\n"
     ]
    }
   ],
   "source": [
    "import torch\n",
    "from torch.utils.data import DataLoader, Dataset\n",
    "from transformers import BertTokenizer, BertForMaskedLM, AdamW\n",
    "from transformers import DataCollatorForLanguageModeling\n",
    "from datasets import load_dataset\n",
    "import pandas as pd\n",
    "import random\n",
    "import numpy as np\n",
    "\n",
    "from tqdm import tqdm"
   ]
  },
  {
   "cell_type": "code",
   "execution_count": 2,
   "id": "febcb405-469c-4ec9-8704-16bf4a7d845f",
   "metadata": {
    "scrolled": true
   },
   "outputs": [],
   "source": [
    "# sentence dataset struct\n",
    "class SentenceDataset(Dataset):\n",
    "    def __init__(self, tokenizer, file_path, max_len, lan_codes=None):\n",
    "        self.tokenizer = tokenizer\n",
    "        self.sentences = pd.read_csv(file_path)\n",
    "\n",
    "        if lan_codes is not None:\n",
    "            # filter languages\n",
    "            self.sentences = self.sentences[self.sentences['lan_code'].isin(lan_codes)]\n",
    "        self.max_len = max_len\n",
    "        print(\"Done loading dataset\")\n",
    "\n",
    "    def __len__(self):\n",
    "        return len(self.sentences)\n",
    "\n",
    "    def __getitem__(self, item):\n",
    "        sentence = str(self.sentences.iloc[item]['sentence']).lower()\n",
    "        encoding = self.tokenizer(sentence, max_length=self.max_len, padding='max_length', truncation=True)\n",
    "        return {key: torch.tensor(val) for key, val in encoding.items()}"
   ]
  },
  {
   "cell_type": "code",
   "execution_count": 3,
   "id": "e8221277-392f-4ca8-a6df-c5400d3c0c4e",
   "metadata": {},
   "outputs": [],
   "source": [
    "# training arguments\n",
    "device = torch.device(\"cuda\" if torch.cuda.is_available() else \"cpu\")\n",
    "\n",
    "def reinitialize_weights(model):\n",
    "    for module in model.modules():\n",
    "        if isinstance(module, torch.nn.Linear):\n",
    "            module.weight.data.normal_(mean=0.0, std=model.config.initializer_range)\n",
    "            if module.bias is not None:\n",
    "                module.bias.data.zero_()\n",
    "        elif isinstance(module, torch.nn.Embedding):\n",
    "            module.weight.data.normal_(mean=0.0, std=model.config.initializer_range)\n",
    "            if module.padding_idx is not None:\n",
    "                module.weight.data[module.padding_idx].zero_()\n",
    "        elif isinstance(module, torch.nn.LayerNorm):\n",
    "            module.bias.data.zero_()\n",
    "            module.weight.data.fill_(1.0)\n",
    "\n",
    "def train_model(lan_code, args): \n",
    "    lr = args['lr']\n",
    "    batch_size = args['batch_size']\n",
    "    log_freq = args['log_freq']\n",
    "    epochs = args['epochs']\n",
    "    \n",
    "    lan_codes = [lan_code]\n",
    "    tokenizer = BertTokenizer.from_pretrained('bert-base-uncased')\n",
    "    dataset = SentenceDataset(tokenizer, 'data/big-language-detection/sentences.csv', max_len=512)\n",
    "    \n",
    "    dataloader = DataLoader(dataset, batch_size=8, shuffle=True)\n",
    "    data_collator = DataCollatorForLanguageModeling(tokenizer=tokenizer, mlm=True, mlm_probability=0.15)\n",
    "    model = BertForMaskedLM.from_pretrained('bert-base-uncased')\n",
    "    reinitialize_weights(model)    # randomize weights so we start from scratch\n",
    "    model.to(device)\n",
    "\n",
    "    \n",
    "    optimizer = AdamW(model.parameters(), lr=lr)\n",
    "\n",
    "    # train\n",
    "    for epoch in (range(epochs)):  # Number of training epochs\n",
    "        model.train()\n",
    "        for i, batch in tqdm(enumerate(dataloader), desc=f\"Epoch {epoch}\", total=len(dataloader)):\n",
    "            inputs = {k: v.to(device) for k, v in batch.items()}\n",
    "            outputs = model(**inputs, labels=inputs['input_ids'])\n",
    "            loss = outputs.loss\n",
    "            loss.backward()\n",
    "            optimizer.step()\n",
    "            optimizer.zero_grad()\n",
    "\n",
    "            if (i + 1) % log_freq == 0:\n",
    "                print(f\"Loss: {loss}\")\n",
    "    \n",
    "    os.makedirs(\"checkpoints\", exist_ok=True)\n",
    "    model.save_pretrained(f\"checkpoints/{lan_code}.pt\")\n",
    "    \n",
    "    print(\"Training complete.\")\n"
   ]
  },
  {
   "cell_type": "code",
   "execution_count": null,
   "id": "020985be-664a-4c9a-95e3-a3700494aa0f",
   "metadata": {},
   "outputs": [
    {
     "name": "stdout",
     "output_type": "stream",
     "text": [
      "Done loading dataset\n"
     ]
    },
    {
     "name": "stderr",
     "output_type": "stream",
     "text": [
      "Some weights of the model checkpoint at bert-base-uncased were not used when initializing BertForMaskedLM: ['bert.pooler.dense.bias', 'bert.pooler.dense.weight', 'cls.seq_relationship.bias', 'cls.seq_relationship.weight']\n",
      "- This IS expected if you are initializing BertForMaskedLM from the checkpoint of a model trained on another task or with another architecture (e.g. initializing a BertForSequenceClassification model from a BertForPreTraining model).\n",
      "- This IS NOT expected if you are initializing BertForMaskedLM from the checkpoint of a model that you expect to be exactly identical (initializing a BertForSequenceClassification model from a BertForSequenceClassification model).\n",
      "/Users/pranavputta/mambaforge/envs/multion/lib/python3.10/site-packages/transformers/optimization.py:429: FutureWarning: This implementation of AdamW is deprecated and will be removed in a future version. Use the PyTorch implementation torch.optim.AdamW instead, or set `no_deprecation_warning=True` to disable this warning\n",
      "  warnings.warn(\n",
      "Epoch 0:   0%|                                                                 | 1/1292727 [00:19<6869:09:35, 19.13s/it]"
     ]
    }
   ],
   "source": [
    "args = {\n",
    "    'batch_size': 8,\n",
    "    'lr': 1e-5,\n",
    "    'log_freq': 1,\n",
    "    'epochs': 3\n",
    "}\n",
    "\n",
    "train_model(\"ang\", args)"
   ]
  },
  {
   "cell_type": "code",
   "execution_count": null,
   "id": "aa55770e-f21b-409e-9857-2c148775ad73",
   "metadata": {},
   "outputs": [],
   "source": []
  }
 ],
 "metadata": {
  "kernelspec": {
   "display_name": "Python 3 (ipykernel)",
   "language": "python",
   "name": "python3"
  },
  "language_info": {
   "codemirror_mode": {
    "name": "ipython",
    "version": 3
   },
   "file_extension": ".py",
   "mimetype": "text/x-python",
   "name": "python",
   "nbconvert_exporter": "python",
   "pygments_lexer": "ipython3",
   "version": "3.10.13"
  }
 },
 "nbformat": 4,
 "nbformat_minor": 5
}
