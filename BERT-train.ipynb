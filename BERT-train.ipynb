{
 "cells": [
  {
   "cell_type": "code",
   "execution_count": 1,
   "id": "43a0ef60-90cd-4fa8-854f-7c6fd11eb41e",
   "metadata": {},
   "outputs": [
    {
     "name": "stderr",
     "output_type": "stream",
     "text": [
      "/coc/testnvme/pputta7/mambaforge/envs/lmnav/lib/python3.9/site-packages/transformers/utils/hub.py:124: FutureWarning: Using `TRANSFORMERS_CACHE` is deprecated and will be removed in v5 of Transformers. Use `HF_HOME` instead.\n",
      "  warnings.warn(\n"
     ]
    },
    {
     "name": "stdout",
     "output_type": "stream",
     "text": [
      "[2024-04-20 23:47:37,632] [INFO] [real_accelerator.py:110:get_accelerator] Setting ds_accelerator to cuda (auto detect)\n"
     ]
    }
   ],
   "source": [
    "import torch\n",
    "from torch.utils.data import DataLoader, Dataset\n",
    "from transformers import BertTokenizer, BertForMaskedLM, AdamW\n",
    "from transformers import DataCollatorForLanguageModeling\n",
    "from datasets import load_dataset\n",
    "import pandas as pd\n",
    "import random\n",
    "import numpy as np\n",
    "\n",
    "from tqdm import tqdm\n",
    "from torch import nn"
   ]
  },
  {
   "cell_type": "code",
   "execution_count": 2,
   "id": "febcb405-469c-4ec9-8704-16bf4a7d845f",
   "metadata": {
    "scrolled": true
   },
   "outputs": [],
   "source": [
    "    # sentence dataset struct\n",
    "    class SentenceDataset(Dataset):\n",
    "        def __init__(self, tokenizer, file_path, max_len, lan_codes=None, split=None):\n",
    "            self.tokenizer = tokenizer\n",
    "            self.sentences = pd.read_csv(file_path)\n",
    "            train_ratio = 0.999\n",
    "    \n",
    "            if lan_codes is not None:\n",
    "                # filter languages\n",
    "                self.sentences = self.sentences[self.sentences['lan_code'].isin(lan_codes)]\n",
    "            if split is not None:\n",
    "                length = len(self.sentences)\n",
    "                if split == 'train':\n",
    "                    self.sentences = self.sentences.iloc[:int(length * train_ratio)]\n",
    "                elif split == 'test':\n",
    "                    self.sentences = self.sentences.iloc[int(length * train_ratio):]\n",
    "                else:\n",
    "                    raise ValueError(f\"split {split} not recognized\")\n",
    "            self.max_len = max_len\n",
    "            \n",
    "            print(f\"Done loading dataset for split {split}\")\n",
    "    \n",
    "        def __len__(self):\n",
    "            return len(self.sentences)\n",
    "    \n",
    "        def __getitem__(self, item):\n",
    "            sentence = str(self.sentences.iloc[item]['sentence']).lower()\n",
    "            encoding = self.tokenizer(sentence, max_length=self.max_len, padding='max_length', truncation=True)\n",
    "            return {key: torch.tensor(val) for key, val in encoding.items()}"
   ]
  },
  {
   "cell_type": "code",
   "execution_count": 3,
   "id": "e8221277-392f-4ca8-a6df-c5400d3c0c4e",
   "metadata": {},
   "outputs": [],
   "source": [
    "# training arguments\n",
    "device = torch.device(\"cuda\" if torch.cuda.is_available() else \"cpu\")\n",
    "\n",
    "def convert_weights_to_fp16(model: nn.Module, dtype=torch.bfloat16):\n",
    "    \"\"\"Convert applicable model parameters to fp16\"\"\"\n",
    "\n",
    "    def _convert_weights_to_fp16(l):\n",
    "        if isinstance(l, (nn.Conv1d, nn.Conv2d, nn.Linear)):\n",
    "            l.weight.data = l.weight.data.to(dtype)\n",
    "            if l.bias is not None:\n",
    "                l.bias.data = l.bias.data.to(dtype)\n",
    "\n",
    "    model.apply(_convert_weights_to_fp16)\n",
    "\n",
    "def reinitialize_weights(model):\n",
    "    for module in model.modules():\n",
    "        if isinstance(module, torch.nn.Linear):\n",
    "            module.weight.data.normal_(mean=0.0, std=model.config.initializer_range)\n",
    "            if module.bias is not None:\n",
    "                module.bias.data.zero_()\n",
    "        elif isinstance(module, torch.nn.Embedding):\n",
    "            module.weight.data.normal_(mean=0.0, std=model.config.initializer_range)\n",
    "            if module.padding_idx is not None:\n",
    "                module.weight.data[module.padding_idx].zero_()\n",
    "        elif isinstance(module, torch.nn.LayerNorm):\n",
    "            module.bias.data.zero_()\n",
    "            module.weight.data.fill_(1.0)"
   ]
  },
  {
   "cell_type": "code",
   "execution_count": 4,
   "id": "844c9ace-5712-49d1-b192-2d2946c37377",
   "metadata": {},
   "outputs": [],
   "source": [
    "args = {\n",
    "    'batch_size': 60,\n",
    "    'lr': 2e-5,\n",
    "    'log_freq': 1,\n",
    "    'eval_freq': 100,\n",
    "    'epochs': 3,\n",
    "    'mlm_prob': 0.4,\n",
    "    'grad_accums': 20\n",
    "}\n",
    "lan_code = 'eng'"
   ]
  },
  {
   "cell_type": "code",
   "execution_count": 5,
   "id": "3a67957f-853b-4658-bddd-ba3d8d3d8b95",
   "metadata": {},
   "outputs": [
    {
     "name": "stdout",
     "output_type": "stream",
     "text": [
      "Done loading dataset for split train\n",
      "Done loading dataset for split test\n"
     ]
    }
   ],
   "source": [
    "\n",
    "\n",
    "lan_codes = [lan_code]\n",
    "tokenizer = BertTokenizer.from_pretrained('bert-base-uncased')\n",
    "\n",
    "train_dataset = SentenceDataset(tokenizer, 'data/big-language-detection/sentences.csv', max_len=512, split='train')\n",
    "test_dataset = SentenceDataset(tokenizer, 'data/big-language-detection/sentences.csv', max_len=512, split='test')\n",
    "\n",
    "data_collator = DataCollatorForLanguageModeling(tokenizer=tokenizer, mlm=True, mlm_probability=mlm_prob)\n",
    "train_dataloader = DataLoader(train_dataset,\n",
    "                              batch_size=batch_size,\n",
    "                              shuffle=True,\n",
    "                              collate_fn=data_collator)\n",
    "test_dataloader = DataLoader(test_dataset,\n",
    "                             batch_size=batch_size*3,\n",
    "                             shuffle=True,\n",
    "                             collate_fn=data_collator)"
   ]
  },
  {
   "cell_type": "code",
   "execution_count": 6,
   "id": "a82cb5a4-6d5e-4956-b7ea-270c19d4cdfb",
   "metadata": {
    "scrolled": true
   },
   "outputs": [
    {
     "name": "stderr",
     "output_type": "stream",
     "text": [
      "Some weights of the model checkpoint at bert-base-uncased were not used when initializing BertForMaskedLM: ['bert.pooler.dense.bias', 'bert.pooler.dense.weight', 'cls.seq_relationship.bias', 'cls.seq_relationship.weight']\n",
      "- This IS expected if you are initializing BertForMaskedLM from the checkpoint of a model trained on another task or with another architecture (e.g. initializing a BertForSequenceClassification model from a BertForPreTraining model).\n",
      "- This IS NOT expected if you are initializing BertForMaskedLM from the checkpoint of a model that you expect to be exactly identical (initializing a BertForSequenceClassification model from a BertForSequenceClassification model).\n"
     ]
    },
    {
     "name": "stdout",
     "output_type": "stream",
     "text": [
      "training with 109.51M parameters\n"
     ]
    }
   ],
   "source": [
    "model = BertForMaskedLM.from_pretrained('bert-base-uncased')\n",
    "reinitialize_weights(model)    # randomize weights so we start from scratch\n",
    "convert_weights_to_fp16(model)\n",
    "model.to(device)\n",
    "print(f\"training with {sum([p.numel() for p in model.parameters() if p.requires_grad]) / 1e6:.2f}M parameters\")"
   ]
  },
  {
   "cell_type": "code",
   "execution_count": 7,
   "id": "31c8f0ac-ed9c-4a06-90b6-5f7ecab46137",
   "metadata": {},
   "outputs": [
    {
     "name": "stderr",
     "output_type": "stream",
     "text": [
      "Failed to detect the name of this notebook, you can set it manually with the WANDB_NOTEBOOK_NAME environment variable to enable code saving.\n",
      "\u001b[34m\u001b[1mwandb\u001b[0m: Currently logged in as: \u001b[33mpranavputta-tonic\u001b[0m (\u001b[33mcvmlp-embodiment-transfer\u001b[0m). Use \u001b[1m`wandb login --relogin`\u001b[0m to force relogin\n"
     ]
    },
    {
     "data": {
      "text/html": [
       "wandb version 0.16.6 is available!  To upgrade, please run:\n",
       " $ pip install wandb --upgrade"
      ],
      "text/plain": [
       "<IPython.core.display.HTML object>"
      ]
     },
     "metadata": {},
     "output_type": "display_data"
    },
    {
     "data": {
      "text/html": [
       "Tracking run with wandb version 0.15.9"
      ],
      "text/plain": [
       "<IPython.core.display.HTML object>"
      ]
     },
     "metadata": {},
     "output_type": "display_data"
    },
    {
     "data": {
      "text/html": [
       "Run data is saved locally in <code>/coc/testnvme/pputta7/projects/ling3100/wandb/run-20240420_234805-4bvcl85p</code>"
      ],
      "text/plain": [
       "<IPython.core.display.HTML object>"
      ]
     },
     "metadata": {},
     "output_type": "display_data"
    },
    {
     "data": {
      "text/html": [
       "Syncing run <strong><a href='https://wandb.ai/cvmlp-embodiment-transfer/ling/runs/4bvcl85p' target=\"_blank\">breezy-river-9</a></strong> to <a href='https://wandb.ai/cvmlp-embodiment-transfer/ling' target=\"_blank\">Weights & Biases</a> (<a href='https://wandb.me/run' target=\"_blank\">docs</a>)<br/>"
      ],
      "text/plain": [
       "<IPython.core.display.HTML object>"
      ]
     },
     "metadata": {},
     "output_type": "display_data"
    },
    {
     "data": {
      "text/html": [
       " View project at <a href='https://wandb.ai/cvmlp-embodiment-transfer/ling' target=\"_blank\">https://wandb.ai/cvmlp-embodiment-transfer/ling</a>"
      ],
      "text/plain": [
       "<IPython.core.display.HTML object>"
      ]
     },
     "metadata": {},
     "output_type": "display_data"
    },
    {
     "data": {
      "text/html": [
       " View run at <a href='https://wandb.ai/cvmlp-embodiment-transfer/ling/runs/4bvcl85p' target=\"_blank\">https://wandb.ai/cvmlp-embodiment-transfer/ling/runs/4bvcl85p</a>"
      ],
      "text/plain": [
       "<IPython.core.display.HTML object>"
      ]
     },
     "metadata": {},
     "output_type": "display_data"
    },
    {
     "data": {
      "text/html": [
       "<button onClick=\"this.nextSibling.style.display='block';this.style.display='none';\">Display W&B run</button><iframe src='https://wandb.ai/cvmlp-embodiment-transfer/ling/runs/4bvcl85p?jupyter=true' style='border:none;width:100%;height:420px;display:none;'></iframe>"
      ],
      "text/plain": [
       "<wandb.sdk.wandb_run.Run at 0x7fc4fafaa400>"
      ]
     },
     "execution_count": 7,
     "metadata": {},
     "output_type": "execute_result"
    }
   ],
   "source": [
    "import wandb\n",
    "\n",
    "wandb.init(project='ling')"
   ]
  },
  {
   "cell_type": "code",
   "execution_count": null,
   "id": "61135ebc-dfa6-4dbb-9a58-6cddc109002b",
   "metadata": {
    "scrolled": true
   },
   "outputs": [
    {
     "name": "stderr",
     "output_type": "stream",
     "text": [
      "/coc/testnvme/pputta7/mambaforge/envs/lmnav/lib/python3.9/site-packages/transformers/optimization.py:457: FutureWarning: This implementation of AdamW is deprecated and will be removed in a future version. Use the PyTorch implementation torch.optim.AdamW instead, or set `no_deprecation_warning=True` to disable this warning\n",
      "  warnings.warn(\n",
      "Epoch 0:   0%|                                                                                                                                | 20/172192 [00:20<52:25:22,  1.10s/it]"
     ]
    },
    {
     "name": "stdout",
     "output_type": "stream",
     "text": [
      "Loss: 10.50524616241455\n"
     ]
    },
    {
     "name": "stderr",
     "output_type": "stream",
     "text": [
      "Epoch 0:   0%|                                                                                                                                | 40/172192 [00:40<52:09:07,  1.09s/it]"
     ]
    },
    {
     "name": "stdout",
     "output_type": "stream",
     "text": [
      "Loss: 10.364455223083496\n"
     ]
    },
    {
     "name": "stderr",
     "output_type": "stream",
     "text": [
      "Epoch 0:   0%|                                                                                                                                | 60/172192 [00:59<52:10:57,  1.09s/it]"
     ]
    },
    {
     "name": "stdout",
     "output_type": "stream",
     "text": [
      "Loss: 10.260120391845703\n"
     ]
    },
    {
     "name": "stderr",
     "output_type": "stream",
     "text": [
      "Epoch 0:   0%|                                                                                                                                | 80/172192 [01:19<52:10:58,  1.09s/it]"
     ]
    },
    {
     "name": "stdout",
     "output_type": "stream",
     "text": [
      "Loss: 10.168787956237793\n"
     ]
    },
    {
     "name": "stderr",
     "output_type": "stream",
     "text": [
      "Epoch 0:   0%|                                                                                                                               | 100/172192 [01:39<52:09:46,  1.09s/it]"
     ]
    },
    {
     "name": "stdout",
     "output_type": "stream",
     "text": [
      "Loss: 10.092512130737305\n"
     ]
    },
    {
     "name": "stderr",
     "output_type": "stream",
     "text": [
      "Epoch 0:   0%|                                                                                                                               | 120/172192 [01:59<52:10:54,  1.09s/it]"
     ]
    },
    {
     "name": "stdout",
     "output_type": "stream",
     "text": [
      "Loss: 10.0335111618042\n"
     ]
    },
    {
     "name": "stderr",
     "output_type": "stream",
     "text": [
      "Epoch 0:   0%|                                                                                                                               | 140/172192 [02:18<52:11:06,  1.09s/it]"
     ]
    },
    {
     "name": "stdout",
     "output_type": "stream",
     "text": [
      "Loss: 9.950963020324707\n"
     ]
    },
    {
     "name": "stderr",
     "output_type": "stream",
     "text": [
      "Epoch 0:   0%|                                                                                                                               | 160/172192 [02:38<52:08:45,  1.09s/it]"
     ]
    },
    {
     "name": "stdout",
     "output_type": "stream",
     "text": [
      "Loss: 9.927413940429688\n"
     ]
    },
    {
     "name": "stderr",
     "output_type": "stream",
     "text": [
      "Epoch 0:   0%|▏                                                                                                                              | 180/172192 [02:58<52:08:44,  1.09s/it]"
     ]
    },
    {
     "name": "stdout",
     "output_type": "stream",
     "text": [
      "Loss: 9.921772956848145\n"
     ]
    },
    {
     "name": "stderr",
     "output_type": "stream",
     "text": [
      "Epoch 0:   0%|▏                                                                                                                              | 200/172192 [03:17<52:08:34,  1.09s/it]"
     ]
    },
    {
     "name": "stdout",
     "output_type": "stream",
     "text": [
      "Loss: 9.854147911071777\n"
     ]
    },
    {
     "name": "stderr",
     "output_type": "stream",
     "text": [
      "Epoch 0:   0%|▏                                                                                                                              | 220/172192 [03:37<52:08:44,  1.09s/it]"
     ]
    },
    {
     "name": "stdout",
     "output_type": "stream",
     "text": [
      "Loss: 9.843486785888672\n"
     ]
    },
    {
     "name": "stderr",
     "output_type": "stream",
     "text": [
      "Epoch 0:   0%|▏                                                                                                                              | 240/172192 [03:57<52:07:54,  1.09s/it]"
     ]
    },
    {
     "name": "stdout",
     "output_type": "stream",
     "text": [
      "Loss: 9.855245590209961\n"
     ]
    },
    {
     "name": "stderr",
     "output_type": "stream",
     "text": [
      "Epoch 0:   0%|▏                                                                                                                              | 260/172192 [04:17<52:06:31,  1.09s/it]"
     ]
    },
    {
     "name": "stdout",
     "output_type": "stream",
     "text": [
      "Loss: 9.800031661987305\n"
     ]
    },
    {
     "name": "stderr",
     "output_type": "stream",
     "text": [
      "Epoch 0:   0%|▏                                                                                                                              | 280/172192 [04:36<52:07:13,  1.09s/it]"
     ]
    },
    {
     "name": "stdout",
     "output_type": "stream",
     "text": [
      "Loss: 9.783282279968262\n"
     ]
    },
    {
     "name": "stderr",
     "output_type": "stream",
     "text": [
      "Epoch 0:   0%|▏                                                                                                                              | 300/172192 [04:56<52:07:12,  1.09s/it]"
     ]
    },
    {
     "name": "stdout",
     "output_type": "stream",
     "text": [
      "Loss: 9.743365287780762\n"
     ]
    },
    {
     "name": "stderr",
     "output_type": "stream",
     "text": [
      "Epoch 0:   0%|▏                                                                                                                              | 320/172192 [05:16<52:05:35,  1.09s/it]"
     ]
    },
    {
     "name": "stdout",
     "output_type": "stream",
     "text": [
      "Loss: 9.729315757751465\n"
     ]
    },
    {
     "name": "stderr",
     "output_type": "stream",
     "text": [
      "Epoch 0:   0%|▎                                                                                                                              | 340/172192 [05:35<52:05:29,  1.09s/it]"
     ]
    },
    {
     "name": "stdout",
     "output_type": "stream",
     "text": [
      "Loss: 9.751376152038574\n"
     ]
    },
    {
     "name": "stderr",
     "output_type": "stream",
     "text": [
      "Epoch 0:   0%|▎                                                                                                                              | 360/172192 [05:55<52:05:28,  1.09s/it]"
     ]
    },
    {
     "name": "stdout",
     "output_type": "stream",
     "text": [
      "Loss: 9.713427543640137\n"
     ]
    },
    {
     "name": "stderr",
     "output_type": "stream",
     "text": [
      "Epoch 0:   0%|▎                                                                                                                              | 380/172192 [06:15<52:05:18,  1.09s/it]"
     ]
    },
    {
     "name": "stdout",
     "output_type": "stream",
     "text": [
      "Loss: 9.688971519470215\n"
     ]
    },
    {
     "name": "stderr",
     "output_type": "stream",
     "text": [
      "Epoch 0:   0%|▎                                                                                                                              | 400/172192 [06:35<52:05:10,  1.09s/it]"
     ]
    },
    {
     "name": "stdout",
     "output_type": "stream",
     "text": [
      "Loss: 9.690367698669434\n"
     ]
    },
    {
     "name": "stderr",
     "output_type": "stream",
     "text": [
      "Epoch 0:   0%|▎                                                                                                                              | 420/172192 [06:54<52:03:54,  1.09s/it]"
     ]
    },
    {
     "name": "stdout",
     "output_type": "stream",
     "text": [
      "Loss: 9.675924301147461\n"
     ]
    },
    {
     "name": "stderr",
     "output_type": "stream",
     "text": [
      "Epoch 0:   0%|▎                                                                                                                              | 440/172192 [07:14<52:04:06,  1.09s/it]"
     ]
    },
    {
     "name": "stdout",
     "output_type": "stream",
     "text": [
      "Loss: 9.66103744506836\n"
     ]
    },
    {
     "name": "stderr",
     "output_type": "stream",
     "text": [
      "Epoch 0:   0%|▎                                                                                                                              | 460/172192 [07:34<52:03:02,  1.09s/it]"
     ]
    },
    {
     "name": "stdout",
     "output_type": "stream",
     "text": [
      "Loss: 9.62876033782959\n"
     ]
    },
    {
     "name": "stderr",
     "output_type": "stream",
     "text": [
      "Epoch 0:   0%|▎                                                                                                                              | 480/172192 [07:53<52:03:46,  1.09s/it]"
     ]
    },
    {
     "name": "stdout",
     "output_type": "stream",
     "text": [
      "Loss: 9.657923698425293\n"
     ]
    },
    {
     "name": "stderr",
     "output_type": "stream",
     "text": [
      "Epoch 0:   0%|▎                                                                                                                              | 500/172192 [08:13<52:02:37,  1.09s/it]"
     ]
    },
    {
     "name": "stdout",
     "output_type": "stream",
     "text": [
      "Loss: 9.61341381072998\n"
     ]
    },
    {
     "name": "stderr",
     "output_type": "stream",
     "text": [
      "Epoch 0:   0%|▍                                                                                                                              | 520/172192 [08:33<52:02:45,  1.09s/it]"
     ]
    },
    {
     "name": "stdout",
     "output_type": "stream",
     "text": [
      "Loss: 9.577372550964355\n"
     ]
    },
    {
     "name": "stderr",
     "output_type": "stream",
     "text": [
      "Epoch 0:   0%|▍                                                                                                                              | 540/172192 [08:52<52:02:42,  1.09s/it]"
     ]
    },
    {
     "name": "stdout",
     "output_type": "stream",
     "text": [
      "Loss: 9.593214988708496\n"
     ]
    },
    {
     "name": "stderr",
     "output_type": "stream",
     "text": [
      "Epoch 0:   0%|▍                                                                                                                              | 560/172192 [09:12<52:01:50,  1.09s/it]"
     ]
    },
    {
     "name": "stdout",
     "output_type": "stream",
     "text": [
      "Loss: 9.580409049987793\n"
     ]
    },
    {
     "name": "stderr",
     "output_type": "stream",
     "text": [
      "Epoch 0:   0%|▍                                                                                                                              | 580/172192 [09:32<52:01:44,  1.09s/it]"
     ]
    },
    {
     "name": "stdout",
     "output_type": "stream",
     "text": [
      "Loss: 9.558121681213379\n"
     ]
    },
    {
     "name": "stderr",
     "output_type": "stream",
     "text": [
      "Epoch 0:   0%|▍                                                                                                                              | 600/172192 [09:52<52:01:12,  1.09s/it]"
     ]
    },
    {
     "name": "stdout",
     "output_type": "stream",
     "text": [
      "Loss: 9.528478622436523\n"
     ]
    },
    {
     "name": "stderr",
     "output_type": "stream",
     "text": [
      "Epoch 0:   0%|▍                                                                                                                              | 620/172192 [10:11<52:00:42,  1.09s/it]"
     ]
    },
    {
     "name": "stdout",
     "output_type": "stream",
     "text": [
      "Loss: 9.548881530761719\n"
     ]
    },
    {
     "name": "stderr",
     "output_type": "stream",
     "text": [
      "Epoch 0:   0%|▍                                                                                                                              | 640/172192 [10:31<52:00:59,  1.09s/it]"
     ]
    },
    {
     "name": "stdout",
     "output_type": "stream",
     "text": [
      "Loss: 9.497949600219727\n"
     ]
    },
    {
     "name": "stderr",
     "output_type": "stream",
     "text": [
      "Epoch 0:   0%|▍                                                                                                                              | 660/172192 [10:51<52:00:20,  1.09s/it]"
     ]
    },
    {
     "name": "stdout",
     "output_type": "stream",
     "text": [
      "Loss: 9.531257629394531\n"
     ]
    },
    {
     "name": "stderr",
     "output_type": "stream",
     "text": [
      "Epoch 0:   0%|▌                                                                                                                              | 680/172192 [11:11<51:59:19,  1.09s/it]"
     ]
    },
    {
     "name": "stdout",
     "output_type": "stream",
     "text": [
      "Loss: 9.4994535446167\n"
     ]
    },
    {
     "name": "stderr",
     "output_type": "stream",
     "text": [
      "Epoch 0:   0%|▌                                                                                                                              | 700/172192 [11:30<51:59:30,  1.09s/it]"
     ]
    },
    {
     "name": "stdout",
     "output_type": "stream",
     "text": [
      "Loss: 9.500032424926758\n"
     ]
    },
    {
     "name": "stderr",
     "output_type": "stream",
     "text": [
      "Epoch 0:   0%|▌                                                                                                                              | 720/172192 [11:50<52:01:05,  1.09s/it]"
     ]
    },
    {
     "name": "stdout",
     "output_type": "stream",
     "text": [
      "Loss: 9.496455192565918\n"
     ]
    },
    {
     "name": "stderr",
     "output_type": "stream",
     "text": [
      "Epoch 0:   0%|▌                                                                                                                              | 740/172192 [12:10<51:59:34,  1.09s/it]"
     ]
    },
    {
     "name": "stdout",
     "output_type": "stream",
     "text": [
      "Loss: 9.475293159484863\n"
     ]
    },
    {
     "name": "stderr",
     "output_type": "stream",
     "text": [
      "Epoch 0:   0%|▌                                                                                                                              | 760/172192 [12:29<51:58:33,  1.09s/it]"
     ]
    },
    {
     "name": "stdout",
     "output_type": "stream",
     "text": [
      "Loss: 9.450366020202637\n"
     ]
    },
    {
     "name": "stderr",
     "output_type": "stream",
     "text": [
      "Epoch 0:   0%|▌                                                                                                                              | 780/172192 [12:49<51:58:09,  1.09s/it]"
     ]
    },
    {
     "name": "stdout",
     "output_type": "stream",
     "text": [
      "Loss: 9.425127983093262\n"
     ]
    },
    {
     "name": "stderr",
     "output_type": "stream",
     "text": [
      "Epoch 0:   0%|▌                                                                                                                              | 800/172192 [13:09<51:57:31,  1.09s/it]"
     ]
    },
    {
     "name": "stdout",
     "output_type": "stream",
     "text": [
      "Loss: 9.473881721496582\n"
     ]
    },
    {
     "name": "stderr",
     "output_type": "stream",
     "text": [
      "Epoch 0:   0%|▌                                                                                                                              | 820/172192 [13:29<51:57:40,  1.09s/it]"
     ]
    },
    {
     "name": "stdout",
     "output_type": "stream",
     "text": [
      "Loss: 9.439116477966309\n"
     ]
    },
    {
     "name": "stderr",
     "output_type": "stream",
     "text": [
      "Epoch 0:   0%|▌                                                                                                                              | 840/172192 [13:48<51:56:22,  1.09s/it]"
     ]
    },
    {
     "name": "stdout",
     "output_type": "stream",
     "text": [
      "Loss: 9.417978286743164\n"
     ]
    },
    {
     "name": "stderr",
     "output_type": "stream",
     "text": [
      "Epoch 0:   0%|▋                                                                                                                              | 860/172192 [14:08<51:55:56,  1.09s/it]"
     ]
    },
    {
     "name": "stdout",
     "output_type": "stream",
     "text": [
      "Loss: 9.425447463989258\n"
     ]
    },
    {
     "name": "stderr",
     "output_type": "stream",
     "text": [
      "Epoch 0:   1%|▋                                                                                                                              | 880/172192 [14:28<51:57:02,  1.09s/it]"
     ]
    },
    {
     "name": "stdout",
     "output_type": "stream",
     "text": [
      "Loss: 9.400135040283203\n"
     ]
    },
    {
     "name": "stderr",
     "output_type": "stream",
     "text": [
      "Epoch 0:   1%|▋                                                                                                                              | 900/172192 [14:47<51:56:17,  1.09s/it]"
     ]
    },
    {
     "name": "stdout",
     "output_type": "stream",
     "text": [
      "Loss: 9.444106101989746\n"
     ]
    },
    {
     "name": "stderr",
     "output_type": "stream",
     "text": [
      "Epoch 0:   1%|▋                                                                                                                              | 920/172192 [15:07<51:55:04,  1.09s/it]"
     ]
    },
    {
     "name": "stdout",
     "output_type": "stream",
     "text": [
      "Loss: 9.419078826904297\n"
     ]
    },
    {
     "name": "stderr",
     "output_type": "stream",
     "text": [
      "Epoch 0:   1%|▋                                                                                                                              | 940/172192 [15:27<51:54:03,  1.09s/it]"
     ]
    },
    {
     "name": "stdout",
     "output_type": "stream",
     "text": [
      "Loss: 9.40247631072998\n"
     ]
    },
    {
     "name": "stderr",
     "output_type": "stream",
     "text": [
      "Epoch 0:   1%|▋                                                                                                                              | 960/172192 [15:47<51:54:58,  1.09s/it]"
     ]
    },
    {
     "name": "stdout",
     "output_type": "stream",
     "text": [
      "Loss: 9.39191722869873\n"
     ]
    },
    {
     "name": "stderr",
     "output_type": "stream",
     "text": [
      "Epoch 0:   1%|▋                                                                                                                              | 980/172192 [16:06<51:54:13,  1.09s/it]"
     ]
    },
    {
     "name": "stdout",
     "output_type": "stream",
     "text": [
      "Loss: 9.34675407409668\n"
     ]
    },
    {
     "name": "stderr",
     "output_type": "stream",
     "text": [
      "Epoch 0:   1%|▋                                                                                                                             | 1000/172192 [16:26<51:54:05,  1.09s/it]"
     ]
    },
    {
     "name": "stdout",
     "output_type": "stream",
     "text": [
      "Loss: 9.349030494689941\n"
     ]
    },
    {
     "name": "stderr",
     "output_type": "stream",
     "text": [
      "Epoch 0:   1%|▋                                                                                                                             | 1020/172192 [16:46<51:53:02,  1.09s/it]"
     ]
    },
    {
     "name": "stdout",
     "output_type": "stream",
     "text": [
      "Loss: 9.337716102600098\n"
     ]
    },
    {
     "name": "stderr",
     "output_type": "stream",
     "text": [
      "Epoch 0:   1%|▊                                                                                                                             | 1040/172192 [17:05<51:53:52,  1.09s/it]"
     ]
    },
    {
     "name": "stdout",
     "output_type": "stream",
     "text": [
      "Loss: 9.360568046569824\n"
     ]
    },
    {
     "name": "stderr",
     "output_type": "stream",
     "text": [
      "Epoch 0:   1%|▊                                                                                                                             | 1060/172192 [17:25<51:53:09,  1.09s/it]"
     ]
    },
    {
     "name": "stdout",
     "output_type": "stream",
     "text": [
      "Loss: 9.355856895446777\n"
     ]
    },
    {
     "name": "stderr",
     "output_type": "stream",
     "text": [
      "Epoch 0:   1%|▊                                                                                                                             | 1080/172192 [17:45<51:52:40,  1.09s/it]"
     ]
    },
    {
     "name": "stdout",
     "output_type": "stream",
     "text": [
      "Loss: 9.340324401855469\n"
     ]
    },
    {
     "name": "stderr",
     "output_type": "stream",
     "text": [
      "Epoch 0:   1%|▊                                                                                                                             | 1100/172192 [18:04<51:52:31,  1.09s/it]"
     ]
    },
    {
     "name": "stdout",
     "output_type": "stream",
     "text": [
      "Loss: 9.340080261230469\n"
     ]
    },
    {
     "name": "stderr",
     "output_type": "stream",
     "text": [
      "Epoch 0:   1%|▊                                                                                                                             | 1120/172192 [18:24<51:51:11,  1.09s/it]"
     ]
    },
    {
     "name": "stdout",
     "output_type": "stream",
     "text": [
      "Loss: 9.335403442382812\n"
     ]
    },
    {
     "name": "stderr",
     "output_type": "stream",
     "text": [
      "Epoch 0:   1%|▊                                                                                                                             | 1140/172192 [18:44<51:51:44,  1.09s/it]"
     ]
    },
    {
     "name": "stdout",
     "output_type": "stream",
     "text": [
      "Loss: 9.349233627319336\n"
     ]
    },
    {
     "name": "stderr",
     "output_type": "stream",
     "text": [
      "Epoch 0:   1%|▊                                                                                                                             | 1160/172192 [19:04<51:50:30,  1.09s/it]"
     ]
    },
    {
     "name": "stdout",
     "output_type": "stream",
     "text": [
      "Loss: 9.31374454498291\n"
     ]
    },
    {
     "name": "stderr",
     "output_type": "stream",
     "text": [
      "Epoch 0:   1%|▊                                                                                                                             | 1180/172192 [19:23<51:49:53,  1.09s/it]"
     ]
    },
    {
     "name": "stdout",
     "output_type": "stream",
     "text": [
      "Loss: 9.282546043395996\n"
     ]
    },
    {
     "name": "stderr",
     "output_type": "stream",
     "text": [
      "Epoch 0:   1%|▉                                                                                                                             | 1200/172192 [19:43<51:50:05,  1.09s/it]"
     ]
    },
    {
     "name": "stdout",
     "output_type": "stream",
     "text": [
      "Loss: 9.292162895202637\n"
     ]
    },
    {
     "name": "stderr",
     "output_type": "stream",
     "text": [
      "Epoch 0:   1%|▉                                                                                                                             | 1220/172192 [20:03<51:51:46,  1.09s/it]"
     ]
    },
    {
     "name": "stdout",
     "output_type": "stream",
     "text": [
      "Loss: 9.26181697845459\n"
     ]
    },
    {
     "name": "stderr",
     "output_type": "stream",
     "text": [
      "Epoch 0:   1%|▉                                                                                                                             | 1240/172192 [20:22<51:48:28,  1.09s/it]"
     ]
    },
    {
     "name": "stdout",
     "output_type": "stream",
     "text": [
      "Loss: 9.307523727416992\n"
     ]
    },
    {
     "name": "stderr",
     "output_type": "stream",
     "text": [
      "Epoch 0:   1%|▉                                                                                                                             | 1260/172192 [20:42<51:48:43,  1.09s/it]"
     ]
    },
    {
     "name": "stdout",
     "output_type": "stream",
     "text": [
      "Loss: 9.221877098083496\n"
     ]
    },
    {
     "name": "stderr",
     "output_type": "stream",
     "text": [
      "Epoch 0:   1%|▉                                                                                                                             | 1280/172192 [21:02<51:48:34,  1.09s/it]"
     ]
    },
    {
     "name": "stdout",
     "output_type": "stream",
     "text": [
      "Loss: 9.25483512878418\n"
     ]
    },
    {
     "name": "stderr",
     "output_type": "stream",
     "text": [
      "Epoch 0:   1%|▉                                                                                                                             | 1300/172192 [21:22<51:47:52,  1.09s/it]"
     ]
    },
    {
     "name": "stdout",
     "output_type": "stream",
     "text": [
      "Loss: 9.259468078613281\n"
     ]
    },
    {
     "name": "stderr",
     "output_type": "stream",
     "text": [
      "Epoch 0:   1%|▉                                                                                                                             | 1320/172192 [21:41<51:48:55,  1.09s/it]"
     ]
    },
    {
     "name": "stdout",
     "output_type": "stream",
     "text": [
      "Loss: 9.290961265563965\n"
     ]
    },
    {
     "name": "stderr",
     "output_type": "stream",
     "text": [
      "Epoch 0:   1%|▉                                                                                                                             | 1340/172192 [22:01<51:47:40,  1.09s/it]"
     ]
    },
    {
     "name": "stdout",
     "output_type": "stream",
     "text": [
      "Loss: 9.19813346862793\n"
     ]
    },
    {
     "name": "stderr",
     "output_type": "stream",
     "text": [
      "Epoch 0:   1%|▉                                                                                                                             | 1360/172192 [22:21<51:47:08,  1.09s/it]"
     ]
    },
    {
     "name": "stdout",
     "output_type": "stream",
     "text": [
      "Loss: 9.215005874633789\n"
     ]
    },
    {
     "name": "stderr",
     "output_type": "stream",
     "text": [
      "Epoch 0:   1%|█                                                                                                                             | 1380/172192 [22:40<51:47:57,  1.09s/it]"
     ]
    },
    {
     "name": "stdout",
     "output_type": "stream",
     "text": [
      "Loss: 9.262953758239746\n"
     ]
    },
    {
     "name": "stderr",
     "output_type": "stream",
     "text": [
      "Epoch 0:   1%|█                                                                                                                             | 1400/172192 [23:00<51:45:19,  1.09s/it]"
     ]
    },
    {
     "name": "stdout",
     "output_type": "stream",
     "text": [
      "Loss: 9.236639022827148\n"
     ]
    },
    {
     "name": "stderr",
     "output_type": "stream",
     "text": [
      "Epoch 0:   1%|█                                                                                                                             | 1420/172192 [23:20<51:46:21,  1.09s/it]"
     ]
    },
    {
     "name": "stdout",
     "output_type": "stream",
     "text": [
      "Loss: 9.203132629394531\n"
     ]
    },
    {
     "name": "stderr",
     "output_type": "stream",
     "text": [
      "Epoch 0:   1%|█                                                                                                                             | 1440/172192 [23:40<51:45:33,  1.09s/it]"
     ]
    },
    {
     "name": "stdout",
     "output_type": "stream",
     "text": [
      "Loss: 9.230382919311523\n"
     ]
    },
    {
     "name": "stderr",
     "output_type": "stream",
     "text": [
      "Epoch 0:   1%|█                                                                                                                             | 1460/172192 [23:59<51:45:42,  1.09s/it]"
     ]
    },
    {
     "name": "stdout",
     "output_type": "stream",
     "text": [
      "Loss: 9.196354866027832\n"
     ]
    },
    {
     "name": "stderr",
     "output_type": "stream",
     "text": [
      "Epoch 0:   1%|█                                                                                                                             | 1480/172192 [24:19<51:44:40,  1.09s/it]"
     ]
    },
    {
     "name": "stdout",
     "output_type": "stream",
     "text": [
      "Loss: 9.189078330993652\n"
     ]
    },
    {
     "name": "stderr",
     "output_type": "stream",
     "text": [
      "Epoch 0:   1%|█                                                                                                                             | 1500/172192 [24:39<51:44:36,  1.09s/it]"
     ]
    },
    {
     "name": "stdout",
     "output_type": "stream",
     "text": [
      "Loss: 9.222686767578125\n"
     ]
    },
    {
     "name": "stderr",
     "output_type": "stream",
     "text": [
      "Epoch 0:   1%|█                                                                                                                             | 1520/172192 [24:58<51:44:22,  1.09s/it]"
     ]
    },
    {
     "name": "stdout",
     "output_type": "stream",
     "text": [
      "Loss: 9.176434516906738\n"
     ]
    },
    {
     "name": "stderr",
     "output_type": "stream",
     "text": [
      "Epoch 0:   1%|█▏                                                                                                                            | 1540/172192 [25:18<51:43:23,  1.09s/it]"
     ]
    },
    {
     "name": "stdout",
     "output_type": "stream",
     "text": [
      "Loss: 9.117759704589844\n"
     ]
    },
    {
     "name": "stderr",
     "output_type": "stream",
     "text": [
      "Epoch 0:   1%|█▏                                                                                                                            | 1560/172192 [25:38<51:42:41,  1.09s/it]"
     ]
    },
    {
     "name": "stdout",
     "output_type": "stream",
     "text": [
      "Loss: 9.174029350280762\n"
     ]
    },
    {
     "name": "stderr",
     "output_type": "stream",
     "text": [
      "Epoch 0:   1%|█▏                                                                                                                            | 1580/172192 [25:57<51:42:26,  1.09s/it]"
     ]
    },
    {
     "name": "stdout",
     "output_type": "stream",
     "text": [
      "Loss: 9.162071228027344\n"
     ]
    },
    {
     "name": "stderr",
     "output_type": "stream",
     "text": [
      "Epoch 0:   1%|█▏                                                                                                                            | 1600/172192 [26:17<51:42:46,  1.09s/it]"
     ]
    },
    {
     "name": "stdout",
     "output_type": "stream",
     "text": [
      "Loss: 9.174112319946289\n"
     ]
    },
    {
     "name": "stderr",
     "output_type": "stream",
     "text": [
      "Epoch 0:   1%|█▏                                                                                                                            | 1620/172192 [26:37<51:42:45,  1.09s/it]"
     ]
    },
    {
     "name": "stdout",
     "output_type": "stream",
     "text": [
      "Loss: 9.113444328308105\n"
     ]
    },
    {
     "name": "stderr",
     "output_type": "stream",
     "text": [
      "Epoch 0:   1%|█▏                                                                                                                            | 1640/172192 [26:57<51:41:02,  1.09s/it]"
     ]
    },
    {
     "name": "stdout",
     "output_type": "stream",
     "text": [
      "Loss: 9.101839065551758\n"
     ]
    },
    {
     "name": "stderr",
     "output_type": "stream",
     "text": [
      "Epoch 0:   1%|█▏                                                                                                                            | 1660/172192 [27:16<51:41:34,  1.09s/it]"
     ]
    },
    {
     "name": "stdout",
     "output_type": "stream",
     "text": [
      "Loss: 9.12109375\n"
     ]
    },
    {
     "name": "stderr",
     "output_type": "stream",
     "text": [
      "Epoch 0:   1%|█▏                                                                                                                            | 1680/172192 [27:36<51:41:12,  1.09s/it]"
     ]
    },
    {
     "name": "stdout",
     "output_type": "stream",
     "text": [
      "Loss: 9.14246940612793\n"
     ]
    },
    {
     "name": "stderr",
     "output_type": "stream",
     "text": [
      "Epoch 0:   1%|█▏                                                                                                                            | 1700/172192 [27:56<51:41:08,  1.09s/it]"
     ]
    },
    {
     "name": "stdout",
     "output_type": "stream",
     "text": [
      "Loss: 9.093134880065918\n"
     ]
    },
    {
     "name": "stderr",
     "output_type": "stream",
     "text": [
      "Epoch 0:   1%|█▎                                                                                                                            | 1720/172192 [28:15<51:40:56,  1.09s/it]"
     ]
    },
    {
     "name": "stdout",
     "output_type": "stream",
     "text": [
      "Loss: 9.120455741882324\n"
     ]
    },
    {
     "name": "stderr",
     "output_type": "stream",
     "text": [
      "Epoch 0:   1%|█▎                                                                                                                            | 1740/172192 [28:35<51:39:58,  1.09s/it]"
     ]
    },
    {
     "name": "stdout",
     "output_type": "stream",
     "text": [
      "Loss: 9.045050621032715\n"
     ]
    },
    {
     "name": "stderr",
     "output_type": "stream",
     "text": [
      "Epoch 0:   1%|█▎                                                                                                                            | 1760/172192 [28:55<51:39:42,  1.09s/it]"
     ]
    },
    {
     "name": "stdout",
     "output_type": "stream",
     "text": [
      "Loss: 9.037403106689453\n"
     ]
    },
    {
     "name": "stderr",
     "output_type": "stream",
     "text": [
      "Epoch 0:   1%|█▎                                                                                                                            | 1780/172192 [29:15<51:39:51,  1.09s/it]"
     ]
    },
    {
     "name": "stdout",
     "output_type": "stream",
     "text": [
      "Loss: 9.080626487731934\n"
     ]
    },
    {
     "name": "stderr",
     "output_type": "stream",
     "text": [
      "Epoch 0:   1%|█▎                                                                                                                            | 1800/172192 [29:34<51:38:55,  1.09s/it]"
     ]
    },
    {
     "name": "stdout",
     "output_type": "stream",
     "text": [
      "Loss: 9.034016609191895\n"
     ]
    },
    {
     "name": "stderr",
     "output_type": "stream",
     "text": [
      "Epoch 0:   1%|█▎                                                                                                                            | 1820/172192 [29:54<51:38:43,  1.09s/it]"
     ]
    },
    {
     "name": "stdout",
     "output_type": "stream",
     "text": [
      "Loss: 9.031122207641602\n"
     ]
    },
    {
     "name": "stderr",
     "output_type": "stream",
     "text": [
      "Epoch 0:   1%|█▎                                                                                                                            | 1840/172192 [30:14<51:38:27,  1.09s/it]"
     ]
    },
    {
     "name": "stdout",
     "output_type": "stream",
     "text": [
      "Loss: 9.029157638549805\n"
     ]
    },
    {
     "name": "stderr",
     "output_type": "stream",
     "text": [
      "Epoch 0:   1%|█▎                                                                                                                            | 1860/172192 [30:33<51:38:44,  1.09s/it]"
     ]
    },
    {
     "name": "stdout",
     "output_type": "stream",
     "text": [
      "Loss: 9.035408973693848\n"
     ]
    },
    {
     "name": "stderr",
     "output_type": "stream",
     "text": [
      "Epoch 0:   1%|█▍                                                                                                                            | 1880/172192 [30:53<51:37:41,  1.09s/it]"
     ]
    },
    {
     "name": "stdout",
     "output_type": "stream",
     "text": [
      "Loss: 9.004018783569336\n"
     ]
    },
    {
     "name": "stderr",
     "output_type": "stream",
     "text": [
      "Epoch 0:   1%|█▍                                                                                                                            | 1900/172192 [31:13<51:37:26,  1.09s/it]"
     ]
    },
    {
     "name": "stdout",
     "output_type": "stream",
     "text": [
      "Loss: 9.05422592163086\n"
     ]
    },
    {
     "name": "stderr",
     "output_type": "stream",
     "text": [
      "Epoch 0:   1%|█▍                                                                                                                            | 1920/172192 [31:32<51:36:37,  1.09s/it]"
     ]
    },
    {
     "name": "stdout",
     "output_type": "stream",
     "text": [
      "Loss: 9.057308197021484\n"
     ]
    },
    {
     "name": "stderr",
     "output_type": "stream",
     "text": [
      "Epoch 0:   1%|█▍                                                                                                                            | 1940/172192 [31:52<51:36:47,  1.09s/it]"
     ]
    },
    {
     "name": "stdout",
     "output_type": "stream",
     "text": [
      "Loss: 8.98967456817627\n"
     ]
    },
    {
     "name": "stderr",
     "output_type": "stream",
     "text": [
      "Epoch 0:   1%|█▍                                                                                                                            | 1960/172192 [32:12<51:35:59,  1.09s/it]"
     ]
    },
    {
     "name": "stdout",
     "output_type": "stream",
     "text": [
      "Loss: 9.042770385742188\n"
     ]
    },
    {
     "name": "stderr",
     "output_type": "stream",
     "text": [
      "Epoch 0:   1%|█▍                                                                                                                            | 1980/172192 [32:32<51:35:41,  1.09s/it]"
     ]
    },
    {
     "name": "stdout",
     "output_type": "stream",
     "text": [
      "Loss: 8.972175598144531\n"
     ]
    },
    {
     "name": "stderr",
     "output_type": "stream",
     "text": [
      "Epoch 0:   1%|█▍                                                                                                                            | 1999/172192 [32:50<46:24:35,  1.02it/s]\n",
      "Eval:   0%|                                                                                                                                                   | 0/58 [00:00<?, ?it/s]\u001b[A\n",
      "Eval:   2%|██▍                                                                                                                                        | 1/58 [00:01<01:53,  2.00s/it]\u001b[A\n",
      "Eval:   3%|████▊                                                                                                                                      | 2/58 [00:02<00:52,  1.07it/s]\u001b[A\n",
      "Eval:   5%|███████▏                                                                                                                                   | 3/58 [00:03<00:51,  1.07it/s]\u001b[A\n",
      "Eval:   7%|█████████▌                                                                                                                                 | 4/58 [00:04<00:50,  1.07it/s]\u001b[A\n",
      "Eval:   9%|███████████▉                                                                                                                               | 5/58 [00:05<00:49,  1.06it/s]\u001b[A\n",
      "Eval:  10%|██████████████▍                                                                                                                            | 6/58 [00:05<00:48,  1.06it/s]\u001b[A\n",
      "Eval:  12%|████████████████▊                                                                                                                          | 7/58 [00:06<00:48,  1.06it/s]\u001b[A\n",
      "Eval:  14%|███████████████████▏                                                                                                                       | 8/58 [00:07<00:47,  1.06it/s]\u001b[A\n",
      "Eval:  16%|█████████████████████▌                                                                                                                     | 9/58 [00:08<00:46,  1.06it/s]\u001b[A\n",
      "Eval:  17%|███████████████████████▊                                                                                                                  | 10/58 [00:09<00:45,  1.06it/s]\u001b[A\n",
      "Eval:  19%|██████████████████████████▏                                                                                                               | 11/58 [00:10<00:44,  1.06it/s]\u001b[A\n",
      "Eval:  21%|████████████████████████████▌                                                                                                             | 12/58 [00:11<00:43,  1.06it/s]\u001b[A\n",
      "Eval:  22%|██████████████████████████████▉                                                                                                           | 13/58 [00:12<00:42,  1.06it/s]\u001b[A\n",
      "Eval:  24%|█████████████████████████████████▎                                                                                                        | 14/58 [00:13<00:41,  1.06it/s]\u001b[A\n",
      "Eval:  26%|███████████████████████████████████▋                                                                                                      | 15/58 [00:14<00:40,  1.06it/s]\u001b[A\n",
      "Eval:  28%|██████████████████████████████████████                                                                                                    | 16/58 [00:15<00:39,  1.06it/s]\u001b[A\n",
      "Eval:  29%|████████████████████████████████████████▍                                                                                                 | 17/58 [00:16<00:38,  1.06it/s]\u001b[A\n",
      "Eval:  31%|██████████████████████████████████████████▊                                                                                               | 18/58 [00:17<00:37,  1.06it/s]\u001b[A\n",
      "Eval:  33%|█████████████████████████████████████████████▏                                                                                            | 19/58 [00:18<00:36,  1.06it/s]\u001b[A\n",
      "Eval:  34%|███████████████████████████████████████████████▌                                                                                          | 20/58 [00:19<00:35,  1.06it/s]\u001b[A\n",
      "Eval:  36%|█████████████████████████████████████████████████▉                                                                                        | 21/58 [00:20<00:34,  1.06it/s]\u001b[A\n",
      "Eval:  38%|████████████████████████████████████████████████████▎                                                                                     | 22/58 [00:21<00:33,  1.06it/s]\u001b[A\n",
      "Eval:  40%|██████████████████████████████████████████████████████▋                                                                                   | 23/58 [00:22<00:33,  1.06it/s]\u001b[A\n",
      "Eval:  41%|█████████████████████████████████████████████████████████                                                                                 | 24/58 [00:22<00:32,  1.06it/s]\u001b[A\n",
      "Eval:  43%|███████████████████████████████████████████████████████████▍                                                                              | 25/58 [00:23<00:31,  1.06it/s]\u001b[A\n",
      "Eval:  45%|█████████████████████████████████████████████████████████████▊                                                                            | 26/58 [00:24<00:30,  1.06it/s]\u001b[A\n",
      "Eval:  47%|████████████████████████████████████████████████████████████████▏                                                                         | 27/58 [00:25<00:29,  1.06it/s]\u001b[A\n",
      "Eval:  48%|██████████████████████████████████████████████████████████████████▌                                                                       | 28/58 [00:26<00:28,  1.06it/s]\u001b[A\n",
      "Eval:  50%|█████████████████████████████████████████████████████████████████████                                                                     | 29/58 [00:27<00:27,  1.06it/s]\u001b[A\n",
      "Eval:  52%|███████████████████████████████████████████████████████████████████████▍                                                                  | 30/58 [00:28<00:26,  1.06it/s]\u001b[A\n",
      "Eval:  53%|█████████████████████████████████████████████████████████████████████████▊                                                                | 31/58 [00:29<00:25,  1.06it/s]\u001b[A\n",
      "Eval:  55%|████████████████████████████████████████████████████████████████████████████▏                                                             | 32/58 [00:30<00:24,  1.06it/s]\u001b[A\n",
      "Eval:  57%|██████████████████████████████████████████████████████████████████████████████▌                                                           | 33/58 [00:31<00:23,  1.06it/s]\u001b[A\n",
      "Eval:  59%|████████████████████████████████████████████████████████████████████████████████▉                                                         | 34/58 [00:32<00:22,  1.06it/s]\u001b[A\n",
      "Eval:  60%|███████████████████████████████████████████████████████████████████████████████████▎                                                      | 35/58 [00:33<00:21,  1.06it/s]\u001b[A\n",
      "Eval:  62%|█████████████████████████████████████████████████████████████████████████████████████▋                                                    | 36/58 [00:34<00:20,  1.06it/s]\u001b[A\n",
      "Eval:  64%|████████████████████████████████████████████████████████████████████████████████████████                                                  | 37/58 [00:35<00:19,  1.06it/s]\u001b[A\n",
      "Eval:  66%|██████████████████████████████████████████████████████████████████████████████████████████▍                                               | 38/58 [00:36<00:18,  1.06it/s]\u001b[A\n",
      "Eval:  67%|████████████████████████████████████████████████████████████████████████████████████████████▊                                             | 39/58 [00:37<00:17,  1.06it/s]\u001b[A\n",
      "Eval:  69%|███████████████████████████████████████████████████████████████████████████████████████████████▏                                          | 40/58 [00:38<00:16,  1.06it/s]\u001b[A\n",
      "Eval:  71%|█████████████████████████████████████████████████████████████████████████████████████████████████▌                                        | 41/58 [00:38<00:16,  1.06it/s]\u001b[A\n",
      "Eval:  72%|███████████████████████████████████████████████████████████████████████████████████████████████████▉                                      | 42/58 [00:39<00:15,  1.06it/s]\u001b[A\n",
      "Eval:  74%|██████████████████████████████████████████████████████████████████████████████████████████████████████▎                                   | 43/58 [00:40<00:14,  1.06it/s]\u001b[A\n",
      "Eval:  76%|████████████████████████████████████████████████████████████████████████████████████████████████████████▋                                 | 44/58 [00:41<00:13,  1.06it/s]\u001b[A\n",
      "Eval:  78%|███████████████████████████████████████████████████████████████████████████████████████████████████████████                               | 45/58 [00:42<00:12,  1.06it/s]\u001b[A\n",
      "Eval:  79%|█████████████████████████████████████████████████████████████████████████████████████████████████████████████▍                            | 46/58 [00:43<00:11,  1.06it/s]\u001b[A\n",
      "Eval:  81%|███████████████████████████████████████████████████████████████████████████████████████████████████████████████▊                          | 47/58 [00:44<00:10,  1.06it/s]\u001b[A\n",
      "Eval:  83%|██████████████████████████████████████████████████████████████████████████████████████████████████████████████████▏                       | 48/58 [00:45<00:09,  1.06it/s]\u001b[A\n",
      "Eval:  84%|████████████████████████████████████████████████████████████████████████████████████████████████████████████████████▌                     | 49/58 [00:46<00:08,  1.06it/s]\u001b[A\n",
      "Eval:  86%|██████████████████████████████████████████████████████████████████████████████████████████████████████████████████████▉                   | 50/58 [00:47<00:07,  1.06it/s]\u001b[A\n",
      "Eval:  88%|█████████████████████████████████████████████████████████████████████████████████████████████████████████████████████████▎                | 51/58 [00:48<00:06,  1.06it/s]\u001b[A\n",
      "Eval:  90%|███████████████████████████████████████████████████████████████████████████████████████████████████████████████████████████▋              | 52/58 [00:49<00:05,  1.06it/s]\u001b[A\n",
      "Eval:  91%|██████████████████████████████████████████████████████████████████████████████████████████████████████████████████████████████            | 53/58 [00:50<00:04,  1.06it/s]\u001b[A\n",
      "Eval:  93%|████████████████████████████████████████████████████████████████████████████████████████████████████████████████████████████████▍         | 54/58 [00:51<00:03,  1.06it/s]\u001b[A\n",
      "Eval:  95%|██████████████████████████████████████████████████████████████████████████████████████████████████████████████████████████████████▊       | 55/58 [00:52<00:02,  1.06it/s]\u001b[A\n",
      "Eval:  97%|█████████████████████████████████████████████████████████████████████████████████████████████████████████████████████████████████████▏    | 56/58 [00:53<00:01,  1.06it/s]\u001b[A\n",
      "Eval:  98%|███████████████████████████████████████████████████████████████████████████████████████████████████████████████████████████████████████▌  | 57/58 [00:54<00:00,  1.06it/s]\u001b[A\n",
      "Eval: 100%|██████████████████████████████████████████████████████████████████████████████████████████████████████████████████████████████████████████| 58/58 [00:55<00:00,  1.05it/s]\u001b[A\n"
     ]
    },
    {
     "name": "stdout",
     "output_type": "stream",
     "text": [
      "Eval Loss: "
     ]
    },
    {
     "name": "stderr",
     "output_type": "stream",
     "text": [
      "Epoch 0:   1%|█▍                                                                                                                           | 2000/172192 [33:47<838:49:16, 17.74s/it]"
     ]
    },
    {
     "name": "stdout",
     "output_type": "stream",
     "text": [
      "tensor(8.9732, device='cuda:0')\n",
      "Loss: 9.03100299835205\n"
     ]
    },
    {
     "name": "stderr",
     "output_type": "stream",
     "text": [
      "Epoch 0:   1%|█▍                                                                                                                            | 2020/172192 [34:07<52:13:19,  1.10s/it]"
     ]
    },
    {
     "name": "stdout",
     "output_type": "stream",
     "text": [
      "Loss: 8.988593101501465\n"
     ]
    },
    {
     "name": "stderr",
     "output_type": "stream",
     "text": [
      "Epoch 0:   1%|█▍                                                                                                                            | 2040/172192 [34:26<51:35:25,  1.09s/it]"
     ]
    },
    {
     "name": "stdout",
     "output_type": "stream",
     "text": [
      "Loss: 8.961772918701172\n"
     ]
    },
    {
     "name": "stderr",
     "output_type": "stream",
     "text": [
      "Epoch 0:   1%|█▌                                                                                                                            | 2060/172192 [34:46<51:34:37,  1.09s/it]"
     ]
    },
    {
     "name": "stdout",
     "output_type": "stream",
     "text": [
      "Loss: 8.942352294921875\n"
     ]
    },
    {
     "name": "stderr",
     "output_type": "stream",
     "text": [
      "Epoch 0:   1%|█▌                                                                                                                            | 2080/172192 [35:06<51:35:01,  1.09s/it]"
     ]
    },
    {
     "name": "stdout",
     "output_type": "stream",
     "text": [
      "Loss: 9.022245407104492\n"
     ]
    },
    {
     "name": "stderr",
     "output_type": "stream",
     "text": [
      "Epoch 0:   1%|█▌                                                                                                                            | 2100/172192 [35:25<51:34:50,  1.09s/it]"
     ]
    },
    {
     "name": "stdout",
     "output_type": "stream",
     "text": [
      "Loss: 8.965218544006348\n"
     ]
    },
    {
     "name": "stderr",
     "output_type": "stream",
     "text": [
      "Epoch 0:   1%|█▌                                                                                                                            | 2111/172192 [35:36<46:22:28,  1.02it/s]"
     ]
    }
   ],
   "source": [
    "\n",
    "optimizer = AdamW(model.parameters(), lr=lr)\n",
    "\n",
    "def train_step(model, batch, optimizer, step_optim):\n",
    "    inputs = {k: v.to(device) for k, v in batch.items()}\n",
    "    with torch.amp.autocast(device_type='cuda', dtype=torch.bfloat16):\n",
    "        outputs = model(**inputs)\n",
    "    loss = outputs.loss\n",
    "    loss.backward()\n",
    "    if step_optim:\n",
    "        optimizer.step()\n",
    "        optimizer.zero_grad()\n",
    "    return loss\n",
    "\n",
    "@torch.no_grad()\n",
    "def eval_step(model):\n",
    "    # step has different meanings here lol but whatever\n",
    "    total_loss = 0\n",
    "    for batch in tqdm(test_dataloader, desc='Eval', total=len(test_dataloader)):\n",
    "        inputs = {k: v.to(device) for k, v in batch.items()}\n",
    "        with torch.amp.autocast(device_type='cuda', dtype=torch.bfloat16):\n",
    "            outputs = model(**inputs)\n",
    "        total_loss += outputs.loss\n",
    "    return total_loss / len(test_dataloader)\n",
    "\n",
    "def train(args):\n",
    "    # train\n",
    "    lr = args['lr']\n",
    "    batch_size = args['batch_size']\n",
    "    log_freq = args['log_freq']\n",
    "    eval_freq = args['eval_freq']\n",
    "    ckpt_freq = args['ckpt_freq']\n",
    "    epochs = args['epochs']\n",
    "    mlm_prob = args['mlm_prob']\n",
    "    grad_accums = args['grad_accums']\n",
    "    \n",
    "    step = 0\n",
    "    for epoch in (range(epochs)):  # Number of training epochs\n",
    "        model.train()\n",
    "        train_loss = 0.0\n",
    "        for i, batch in tqdm(enumerate(train_dataloader), desc=f\"Epoch {epoch}\", total=len(train_dataloader)):\n",
    "            if (i + 1) % grad_accums != 0:\n",
    "                train_loss += train_step(model, batch, optimizer, step_optim=False)\n",
    "                continue\n",
    "       \n",
    "            train_loss += train_step(model, batch, optimizer, step_optim=True)\n",
    "            train_loss /= grad_accums\n",
    "            step += 1                \n",
    "\n",
    "            if (step) % eval_freq == 0:\n",
    "                test_loss = eval_step(model)\n",
    "                print(\"Eval Loss:\" ,test_loss)\n",
    "                wandb.log({\"test.loss\": test_loss})\n",
    "    \n",
    "            if (step) % log_freq == 0:\n",
    "                print(f\"Loss: {train_loss}\")\n",
    "                wandb.log({\"train.loss\": train_loss})\n",
    "\n",
    "            if (step) % ckpt_freq == 0:\n",
    "                os.makedirs(\"checkpoints\", exist_ok=True)\n",
    "                torch.save(f\"checkpoints/{lan_code}_{step}.pt\")\n",
    "\n",
    "            train_loss = 0."
   ]
  },
  {
   "cell_type": "code",
   "execution_count": null,
   "id": "aa55770e-f21b-409e-9857-2c148775ad73",
   "metadata": {},
   "outputs": [],
   "source": [
    "torch.cuda.is_available()"
   ]
  },
  {
   "cell_type": "code",
   "execution_count": null,
   "id": "584ac091-efcd-4364-a3ae-e5c6fb5a03d9",
   "metadata": {},
   "outputs": [],
   "source": [
    "dataset.sentences.iloc[:100]"
   ]
  },
  {
   "cell_type": "code",
   "execution_count": null,
   "id": "1576a97e-8ef8-47a8-b888-a6ea6eb3b9fe",
   "metadata": {},
   "outputs": [],
   "source": []
  }
 ],
 "metadata": {
  "kernelspec": {
   "display_name": "Python 3 (ipykernel)",
   "language": "python",
   "name": "python3"
  },
  "language_info": {
   "codemirror_mode": {
    "name": "ipython",
    "version": 3
   },
   "file_extension": ".py",
   "mimetype": "text/x-python",
   "name": "python",
   "nbconvert_exporter": "python",
   "pygments_lexer": "ipython3",
   "version": "3.9.17"
  }
 },
 "nbformat": 4,
 "nbformat_minor": 5
}
